{
 "cells": [
  {
   "cell_type": "markdown",
   "id": "ca5f4572",
   "metadata": {},
   "source": [
    "# Assignment 6"
   ]
  },
  {
   "cell_type": "markdown",
   "id": "f27df3e1",
   "metadata": {},
   "source": [
    "**1. What are Escape characters ? and how do you use them ?**\n",
    "\n",
    "*Escape characters represent characters in string values that would otherwise be difficult or impossible to type into code. we can use the backslash character to escape a single character or symbol*\n",
    "   - characters : `\\t, \\n`"
   ]
  },
  {
   "cell_type": "markdown",
   "id": "d99761cd",
   "metadata": {},
   "source": [
    "------------------------------------------------------------------------------------------------------------------------------"
   ]
  },
  {
   "cell_type": "markdown",
   "id": "4f5e01ef",
   "metadata": {},
   "source": [
    "**2. What do the escape characters n and t stand for?**\n",
    "\n",
    "*`\\n` is a newline, `\\t` is a tab*"
   ]
  },
  {
   "cell_type": "markdown",
   "id": "7fcabf53",
   "metadata": {},
   "source": [
    "------------------------------------------------------------------------------------------------------------------------------"
   ]
  },
  {
   "cell_type": "markdown",
   "id": "5fd98fda",
   "metadata": {},
   "source": [
    "**3.What is the way to include backslash character in a string?**\n",
    "\n",
    "*The `\\\\` escape character will represent the backslash character in a string*"
   ]
  },
  {
   "cell_type": "markdown",
   "id": "8c407f4a",
   "metadata": {},
   "source": [
    "------------------------------------------------------------------------------------------------------------------------------"
   ]
  },
  {
   "cell_type": "markdown",
   "id": "7b7d0bc8",
   "metadata": {},
   "source": [
    "**4.The string \"Howl's Moving Castle\" is a correct value. Why isn't the single quote character in the word Howl's not escaped a problem ?**\n",
    "\n",
    "*The string \"Howl's Moving Castle\" escaped the problem because it is wrapped inside double quotes. if its wrapped inside single quotes then we have to use escape character \\' to show single quote in the final output\n",
    "'Howl\\'s Moving Castle' -> 'Howl's Moving Castle'*"
   ]
  },
  {
   "cell_type": "markdown",
   "id": "369f62e1",
   "metadata": {},
   "source": [
    "------------------------------------------------------------------------------------------------------------------------------"
   ]
  },
  {
   "cell_type": "markdown",
   "id": "72653eae",
   "metadata": {},
   "source": [
    "**5.How do you write a string of newlines if you don't want to use the n character?**\n",
    "\n",
    "*Multiline string allow you to use newlines in string without the \\n escape character*"
   ]
  },
  {
   "cell_type": "code",
   "execution_count": 1,
   "id": "50045f29",
   "metadata": {},
   "outputs": [
    {
     "name": "stdout",
     "output_type": "stream",
     "text": [
      "iNeuron full stack\n",
      "Data Science Course\n"
     ]
    }
   ],
   "source": [
    "# Example:\n",
    "a = '''iNeuron full stack\n",
    "Data Science Course'''\n",
    "print(a)"
   ]
  },
  {
   "cell_type": "markdown",
   "id": "988b60b8",
   "metadata": {},
   "source": [
    "------------------------------------------------------------------------------------------------------------------------------"
   ]
  },
  {
   "cell_type": "markdown",
   "id": "e79f7cb8",
   "metadata": {},
   "source": [
    "**6.What are the values of the given expressions ?**\n",
    "\n",
    "- 'Hello, world!'[1]\n",
    "- 'Hello, world!'[0:5]\n",
    "- 'Hello, world!'[:5]\n",
    "- 'Hello, world!'[3:]"
   ]
  },
  {
   "cell_type": "code",
   "execution_count": 2,
   "id": "33e36f18",
   "metadata": {},
   "outputs": [
    {
     "name": "stdout",
     "output_type": "stream",
     "text": [
      "'Hello, world!'[1] : e\n",
      "'Hello, world!'[0:5] : Hello\n",
      "'Hello, world!'[:5] : Hello\n",
      "'Hello, world!'[3:] : lo, world!\n"
     ]
    }
   ],
   "source": [
    "# Answer\n",
    "print(\"'Hello, world!'[1] :\", 'Hello, world!'[1])\n",
    "print(\"'Hello, world!'[0:5] :\", 'Hello, world!'[0:5])\n",
    "print(\"'Hello, world!'[:5] :\", 'Hello, world!'[:5])\n",
    "print(\"'Hello, world!'[3:] :\", 'Hello, world!'[3:])"
   ]
  },
  {
   "cell_type": "markdown",
   "id": "d558c17d",
   "metadata": {},
   "source": [
    "------------------------------------------------------------------------------------------------------------------------------"
   ]
  },
  {
   "cell_type": "markdown",
   "id": "af004d1a",
   "metadata": {},
   "source": [
    "**7.What are the values of the following expressions ?**\n",
    "- 'Hello'.upper()\n",
    "- 'Hello'.upper().isupper()\n",
    "- 'Hello'.upper().lower()"
   ]
  },
  {
   "cell_type": "code",
   "execution_count": 3,
   "id": "c0d82dfe",
   "metadata": {},
   "outputs": [
    {
     "name": "stdout",
     "output_type": "stream",
     "text": [
      "'Hello'.upper() : HELLO\n",
      "'Hello'.upper().isupper() : True\n",
      "'Hello'.upper().lower() : hello\n"
     ]
    }
   ],
   "source": [
    "# Answer\n",
    "print(\"'Hello'.upper() :\", 'Hello'.upper())\n",
    "print(\"'Hello'.upper().isupper() :\" , 'Hello'.upper().isupper())\n",
    "print(\"'Hello'.upper().lower() :\", 'Hello'.upper().lower())"
   ]
  },
  {
   "cell_type": "markdown",
   "id": "f65db7cb",
   "metadata": {},
   "source": [
    "------------------------------------------------------------------------------------------------------------------------------"
   ]
  },
  {
   "cell_type": "markdown",
   "id": "7fcb3d6a",
   "metadata": {},
   "source": [
    "**8.What are the values of the following expressions ?**\n",
    "\n",
    "- 'Remember, remember, the fifith of July.'.split()\n",
    "- '-'.join('There can only one'.split())`"
   ]
  },
  {
   "cell_type": "code",
   "execution_count": 5,
   "id": "756135ca",
   "metadata": {
    "scrolled": true
   },
   "outputs": [
    {
     "name": "stdout",
     "output_type": "stream",
     "text": [
      "['Remember,', 'remember,', 'the', 'fifith', 'of', 'July.']\n",
      "There-can-only-one\n"
     ]
    }
   ],
   "source": [
    "# The values for the given expressions are:\n",
    "\n",
    "print('Remember, remember, the fifith of July.'.split()) # returns ['Remember,', 'remember,', 'the', 'fifith', 'of', 'July.']\n",
    "\n",
    "print('-'.join('There can only one'.split())) # returns 'There-can-only-one'"
   ]
  },
  {
   "cell_type": "markdown",
   "id": "b2dd03f5",
   "metadata": {},
   "source": [
    "------------------------------------------------------------------------------------------------------------------------------"
   ]
  },
  {
   "cell_type": "markdown",
   "id": "26677d6d",
   "metadata": {},
   "source": [
    "**9.What are the methods for right-justifying, left-justifying and centering a string ?**\n",
    "\n",
    "*The rjust(), ljust(), center() string methods, respectively*"
   ]
  },
  {
   "cell_type": "markdown",
   "id": "81313948",
   "metadata": {},
   "source": [
    "------------------------------------------------------------------------------------------------------------------------------"
   ]
  },
  {
   "cell_type": "markdown",
   "id": "71d9a6d1",
   "metadata": {},
   "source": [
    "**10.What is the best way to remove whitespace characters from the start or end ?**\n",
    "\n",
    "*The lstrip() and rstrip() methods remove whitesapce characters from the left and right ends of a string respectively*"
   ]
  }
 ],
 "metadata": {
  "kernelspec": {
   "display_name": "Python 3 (ipykernel)",
   "language": "python",
   "name": "python3"
  },
  "language_info": {
   "codemirror_mode": {
    "name": "ipython",
    "version": 3
   },
   "file_extension": ".py",
   "mimetype": "text/x-python",
   "name": "python",
   "nbconvert_exporter": "python",
   "pygments_lexer": "ipython3",
   "version": "3.9.7"
  }
 },
 "nbformat": 4,
 "nbformat_minor": 5
}
