{
 "cells": [
  {
   "cell_type": "markdown",
   "id": "73a74118",
   "metadata": {},
   "source": [
    "1. What does an empty dictionary's code look like?\n",
    "        \n",
    "        Two curly brackets: {}\n",
    "        items= {}"
   ]
  },
  {
   "cell_type": "markdown",
   "id": "ba404237",
   "metadata": {},
   "source": [
    "2. What is the value of a dictionary value with the key 'foo' and the value 42?\n",
    "\n",
    "        {'foo': 42}"
   ]
  },
  {
   "cell_type": "markdown",
   "id": "23172274",
   "metadata": {},
   "source": [
    "3. What is the most significant distinction between a dictionary and a list?\n",
    "\n",
    "        The items stored in a dictionary are unordered, \n",
    "        while the items in a list are ordered."
   ]
  },
  {
   "cell_type": "markdown",
   "id": "d48a8bf7",
   "metadata": {},
   "source": [
    "4. What happens if you try to access spam{'foo'} if spam is {'bar': 100}?\n",
    "\n",
    "        You get a KeyError error."
   ]
  },
  {
   "cell_type": "markdown",
   "id": "25c0986b",
   "metadata": {},
   "source": [
    "5. If a dictionary is stored in spam, what is the difference between the expressions 'cat' in spam and 'cat' in spam.keys()?\n",
    "\n",
    "        There is no difference. The in operator checks whether a value \n",
    "        exists as a key in the dictionary."
   ]
  },
  {
   "cell_type": "markdown",
   "id": "c2b92fe4",
   "metadata": {},
   "source": [
    "6. If a dictionary is stored in spam, what is the difference between the expressions 'cat' in spam and 'cat' in spam.values()?\n",
    "\n",
    "        'cat' in spam checks whether there is a 'cat' key in the \n",
    "        dictionary, while 'cat' in spam.values() checks whether there \n",
    "        is a value 'cat' for one of the keys in spam."
   ]
  },
  {
   "cell_type": "markdown",
   "id": "5a026664",
   "metadata": {},
   "source": [
    "7. What is a shortcut for the following code?\n",
    "\n",
    "        if 'color' not in spam:\n",
    "           spa ['color']= 'black'\n",
    "            \n",
    "        \n",
    "        \n",
    "        spam.setdefault('color', 'black')"
   ]
  },
  {
   "cell_type": "markdown",
   "id": "c6b6775b",
   "metadata": {},
   "source": [
    "8. How do you \"pretty print\" dictionary values using which module and function?\n",
    "\n",
    "        pprint.pprint()"
   ]
  }
 ],
 "metadata": {
  "kernelspec": {
   "display_name": "Python 3 (ipykernel)",
   "language": "python",
   "name": "python3"
  },
  "language_info": {
   "codemirror_mode": {
    "name": "ipython",
    "version": 3
   },
   "file_extension": ".py",
   "mimetype": "text/x-python",
   "name": "python",
   "nbconvert_exporter": "python",
   "pygments_lexer": "ipython3",
   "version": "3.9.7"
  }
 },
 "nbformat": 4,
 "nbformat_minor": 5
}
